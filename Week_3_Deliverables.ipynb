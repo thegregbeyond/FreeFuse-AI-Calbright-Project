{
  "nbformat": 4,
  "nbformat_minor": 0,
  "metadata": {
    "colab": {
      "provenance": [],
      "authorship_tag": "ABX9TyNnEyNOaIgQs5uBQE8oesnI",
      "include_colab_link": true
    },
    "kernelspec": {
      "name": "python3",
      "display_name": "Python 3"
    },
    "language_info": {
      "name": "python"
    }
  },
  "cells": [
    {
      "cell_type": "markdown",
      "metadata": {
        "id": "view-in-github",
        "colab_type": "text"
      },
      "source": [
        "<a href=\"https://colab.research.google.com/github/thegregbeyond/FreeFuse-AI-Calbright-Project/blob/main/Week_3_Deliverables.ipynb\" target=\"_parent\"><img src=\"https://colab.research.google.com/assets/colab-badge.svg\" alt=\"Open In Colab\"/></a>"
      ]
    },
    {
      "cell_type": "markdown",
      "source": [
        "## Create Deliverables for Week 3"
      ],
      "metadata": {
        "id": "ZMUSkZUQM0cV"
      }
    },
    {
      "cell_type": "code",
      "source": [
        "from pathlib import Path\n",
        "import pandas as pd\n",
        "import matplotlib.pyplot as plt\n",
        "from collections import Counter\n",
        "from itertools import combinations\n",
        "from google.colab import drive\n",
        "\n",
        "# === Configuration ===\n",
        "DRIVE_MOUNT_POINT = Path('/content/drive')\n",
        "PROJECT_ROOT      = DRIVE_MOUNT_POINT / 'MyDrive/FreeFuse_Project'\n",
        "INPUT_CSV         = PROJECT_ROOT / 'final_annotations.csv'\n",
        "OUTPUT_FREQ_CSV   = PROJECT_ROOT / 'final_object_frequency_table.csv'\n",
        "OUTPUT_COOC_CSV   = PROJECT_ROOT / 'final_co_occurrence_matrix.csv'\n",
        "OUTPUT_HEATMAP    = PROJECT_ROOT / 'object_positioning_heatmap.png'\n",
        "# =====================\n",
        "\n",
        "# Mount Google Drive\n",
        "print(\"Mounting Google Drive...\")\n",
        "drive.mount(str(DRIVE_MOUNT_POINT), force_remount=True)\n",
        "print(\"Google Drive mounted.\")\n",
        "\n",
        "# Load annotations\n",
        "if not INPUT_CSV.exists():\n",
        "    raise FileNotFoundError(f\"Annotation file not found: {INPUT_CSV}\")\n",
        "df = pd.read_csv(INPUT_CSV)\n",
        "print(f\"Loaded {len(df)} rows from {INPUT_CSV.name}\")\n",
        "\n",
        "# === Deliverable 1: Object Frequency Table ===\n",
        "freq = df['object_name'].value_counts().rename_axis('object_name').reset_index(name='frequency')\n",
        "freq.to_csv(OUTPUT_FREQ_CSV, index=False)\n",
        "print(f\"Object frequency table saved to {OUTPUT_FREQ_CSV.name}\")\n",
        "\n",
        "# === Deliverable 2: Co-occurrence Matrix ===\n",
        "grouped = df.groupby('frame_id')['object_name'].apply(lambda x: set(x))\n",
        "pair_counter = Counter()\n",
        "for objs in grouped:\n",
        "    for a, b in combinations(sorted(objs), 2):\n",
        "        pair_counter[(a, b)] += 1\n",
        "\n",
        "objects = sorted(df['object_name'].unique())\n",
        "mat = pd.DataFrame(0, index=objects, columns=objects, dtype=int)\n",
        "for (a, b), cnt in pair_counter.items():\n",
        "    mat.at[a, b] = cnt\n",
        "    mat.at[b, a] = cnt\n",
        "# Diagonal = total frequency\n",
        "diag = df['object_name'].value_counts()\n",
        "for obj, cnt in diag.items():\n",
        "    mat.at[obj, obj] = cnt\n",
        "\n",
        "mat.to_csv(OUTPUT_COOC_CSV)\n",
        "print(f\"Co-occurrence matrix saved to {OUTPUT_COOC_CSV.name}\")\n",
        "\n",
        "# === Deliverable 3: Positional Heatmap ===\n",
        "df['center_x'] = (df['x_min'] + df['x_max']) / 2\n",
        "df['center_y'] = (df['y_min'] + df['y_max']) / 2\n",
        "df['norm_x']  = df['center_x'] / df['image_width_px']\n",
        "df['norm_y']  = df['center_y'] / df['image_height_px']\n",
        "\n",
        "plt.figure(figsize=(8, 6))\n",
        "hb = plt.hist2d(\n",
        "    df['norm_x'], df['norm_y'],\n",
        "    bins=100, range=[[0,1],[0,1]],\n",
        "    cmap='magma'\n",
        ")\n",
        "plt.colorbar(hb[3], label='Density')\n",
        "plt.xlabel('Normalized X')\n",
        "plt.ylabel('Normalized Y')\n",
        "plt.title('Heatmap of Object Center Points')\n",
        "plt.gca().invert_yaxis()\n",
        "plt.tight_layout()\n",
        "plt.savefig(OUTPUT_HEATMAP, dpi=300)\n",
        "print(f\"Heatmap saved to {OUTPUT_HEATMAP.name}\")\n",
        "plt.show()"
      ],
      "metadata": {
        "id": "lRmswMIbj2Ll"
      },
      "execution_count": null,
      "outputs": []
    }
  ]
}